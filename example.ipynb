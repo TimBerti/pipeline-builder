{
 "cells": [
  {
   "cell_type": "markdown",
   "id": "67596aca",
   "metadata": {},
   "source": [
    "# Basic Example"
   ]
  },
  {
   "cell_type": "code",
   "execution_count": 1,
   "id": "13a0f426",
   "metadata": {},
   "outputs": [
    {
     "name": "stdout",
     "output_type": "stream",
     "text": [
      "Pipeline(id=156fa02e87a143c2b2f05415d8caaa38, tasks=['data_loader', 'processor_1', 'processor_2', 'classifier_1'])\n",
      "Pipeline(id=e49e46649b89496db0208e835b198f9b, tasks=['data_loader', 'processor_1', 'processor_2', 'classifier_2'])\n",
      "Pipeline(id=ad7829cc92964286b33545281314c8dc, tasks=['data_loader', 'processor_1', 'classifier_1'])\n",
      "Pipeline(id=6c28d3ea887d4d18b5754fffad9c49b7, tasks=['data_loader', 'processor_1', 'classifier_2'])\n",
      "Pipeline(id=0ae5e9b6441844439b2b375c96040827, tasks=['data_loader', 'processor_2', 'processor_1', 'classifier_1'])\n",
      "Pipeline(id=2eb9025d2626413495314ca4dbc167e2, tasks=['data_loader', 'processor_2', 'processor_1', 'classifier_2'])\n",
      "Pipeline(id=79c7dc52ac594306adfa5490426a73d9, tasks=['data_loader', 'processor_2', 'classifier_1'])\n",
      "Pipeline(id=a85c94f0f77e48feab4b4c109cb10ed5, tasks=['data_loader', 'processor_2', 'classifier_2'])\n"
     ]
    }
   ],
   "source": [
    "from pypekit import Task, Repository, CachedExecutor, Pipeline\n",
    "\n",
    "class DataLoader(Task):\n",
    "    input_types = [\"source\"]\n",
    "    output_types = [\"raw\"]\n",
    "\n",
    "    def run(self, _):\n",
    "        print(f\"Running DataLoader\")\n",
    "        return \"output\"\n",
    "\n",
    "class Processor(Task):\n",
    "    input_types = [\"raw\", \"processed\"]\n",
    "    output_types = [\"processed\"]\n",
    "\n",
    "    def run(self, _):\n",
    "        print(f\"Running Processor\")\n",
    "        return \"output\"\n",
    "\n",
    "class Classifier(Task):\n",
    "    input_types = [\"processed\"]\n",
    "    output_types = [\"sink\"]\n",
    "\n",
    "    def run(self, _):\n",
    "        print(f\"Running Classifier\")\n",
    "        return \"output\"\n",
    "\n",
    "repository = Repository([\n",
    "    (\"data_loader\", DataLoader()),\n",
    "    (\"processor_1\", Processor()),\n",
    "    (\"processor_2\", Processor()),\n",
    "    (\"classifier_1\", Classifier()),\n",
    "    (\"classifier_2\", Classifier()),\n",
    "])\n",
    "pipeline_dict = repository.build_pipelines()\n",
    "for p in pipeline_dict.values():\n",
    "    print(p)"
   ]
  },
  {
   "cell_type": "code",
   "execution_count": 2,
   "id": "860359c6",
   "metadata": {},
   "outputs": [
    {
     "name": "stdout",
     "output_type": "stream",
     "text": [
      "Running DataLoader\n",
      "Running Processor\n",
      "Running Processor\n",
      "Running Classifier\n",
      "Ran pipeline 156fa02e87a143c2b2f05415d8caaa38. Runtime: 0.00s. 1/8 pipelines completed.\n",
      "Running Classifier\n",
      "Ran pipeline e49e46649b89496db0208e835b198f9b. Runtime: 0.00s. 2/8 pipelines completed.\n",
      "Running Classifier\n",
      "Ran pipeline ad7829cc92964286b33545281314c8dc. Runtime: 0.00s. 3/8 pipelines completed.\n",
      "Running Classifier\n",
      "Ran pipeline 6c28d3ea887d4d18b5754fffad9c49b7. Runtime: 0.00s. 4/8 pipelines completed.\n",
      "Running Processor\n",
      "Running Processor\n",
      "Running Classifier\n",
      "Ran pipeline 0ae5e9b6441844439b2b375c96040827. Runtime: 0.00s. 5/8 pipelines completed.\n",
      "Running Classifier\n",
      "Ran pipeline 2eb9025d2626413495314ca4dbc167e2. Runtime: 0.00s. 6/8 pipelines completed.\n",
      "Running Classifier\n",
      "Ran pipeline 79c7dc52ac594306adfa5490426a73d9. Runtime: 0.00s. 7/8 pipelines completed.\n",
      "Running Classifier\n",
      "Ran pipeline a85c94f0f77e48feab4b4c109cb10ed5. Runtime: 0.00s. 8/8 pipelines completed.\n"
     ]
    }
   ],
   "source": [
    "executor = CachedExecutor(pipeline_dict, verbose=True)\n",
    "results = executor.run()"
   ]
  },
  {
   "cell_type": "code",
   "execution_count": 3,
   "id": "fb407c6e",
   "metadata": {},
   "outputs": [
    {
     "name": "stdout",
     "output_type": "stream",
     "text": [
      "{'pipeline_id': '156fa02e87a143c2b2f05415d8caaa38', 'output': 'output', 'runtime': 0.00011470000000002312, 'tasks': ['data_loader', 'processor_1', 'processor_2', 'classifier_1']}\n",
      "{'pipeline_id': 'e49e46649b89496db0208e835b198f9b', 'output': 'output', 'runtime': 0.00011230000000006513, 'tasks': ['data_loader', 'processor_1', 'processor_2', 'classifier_2']}\n",
      "{'pipeline_id': 'ad7829cc92964286b33545281314c8dc', 'output': 'output', 'runtime': 8.729999999990135e-05, 'tasks': ['data_loader', 'processor_1', 'classifier_1']}\n",
      "{'pipeline_id': '6c28d3ea887d4d18b5754fffad9c49b7', 'output': 'output', 'runtime': 8.779999999997123e-05, 'tasks': ['data_loader', 'processor_1', 'classifier_2']}\n",
      "{'pipeline_id': '0ae5e9b6441844439b2b375c96040827', 'output': 'output', 'runtime': 7.61000000001344e-05, 'tasks': ['data_loader', 'processor_2', 'processor_1', 'classifier_1']}\n",
      "{'pipeline_id': '2eb9025d2626413495314ca4dbc167e2', 'output': 'output', 'runtime': 7.680000000009901e-05, 'tasks': ['data_loader', 'processor_2', 'processor_1', 'classifier_2']}\n",
      "{'pipeline_id': '79c7dc52ac594306adfa5490426a73d9', 'output': 'output', 'runtime': 7.060000000003175e-05, 'tasks': ['data_loader', 'processor_2', 'classifier_1']}\n",
      "{'pipeline_id': 'a85c94f0f77e48feab4b4c109cb10ed5', 'output': 'output', 'runtime': 7.08000000000375e-05, 'tasks': ['data_loader', 'processor_2', 'classifier_2']}\n"
     ]
    }
   ],
   "source": [
    "for r in results.values():\n",
    "    print(r)"
   ]
  },
  {
   "cell_type": "markdown",
   "id": "1df8b226",
   "metadata": {},
   "source": [
    "# Reusing Cache"
   ]
  },
  {
   "cell_type": "code",
   "execution_count": 5,
   "id": "5c4ced3e",
   "metadata": {},
   "outputs": [
    {
     "name": "stdout",
     "output_type": "stream",
     "text": [
      "Ran pipeline 156fa02e87a143c2b2f05415d8caaa38. Runtime: 0.00s. 1/8 pipelines completed.\n",
      "Ran pipeline e49e46649b89496db0208e835b198f9b. Runtime: 0.00s. 2/8 pipelines completed.\n",
      "Ran pipeline ad7829cc92964286b33545281314c8dc. Runtime: 0.00s. 3/8 pipelines completed.\n",
      "Ran pipeline 6c28d3ea887d4d18b5754fffad9c49b7. Runtime: 0.00s. 4/8 pipelines completed.\n",
      "Ran pipeline 0ae5e9b6441844439b2b375c96040827. Runtime: 0.00s. 5/8 pipelines completed.\n",
      "Ran pipeline 2eb9025d2626413495314ca4dbc167e2. Runtime: 0.00s. 6/8 pipelines completed.\n",
      "Ran pipeline 79c7dc52ac594306adfa5490426a73d9. Runtime: 0.00s. 7/8 pipelines completed.\n",
      "Ran pipeline a85c94f0f77e48feab4b4c109cb10ed5. Runtime: 0.00s. 8/8 pipelines completed.\n"
     ]
    }
   ],
   "source": [
    "new_executor = CachedExecutor(pipeline_dict, cache=executor.cache, verbose=True)\n",
    "new_executor.run();"
   ]
  },
  {
   "cell_type": "markdown",
   "id": "b276873a",
   "metadata": {},
   "source": [
    "# Custom Pipelines"
   ]
  },
  {
   "cell_type": "code",
   "execution_count": 8,
   "id": "98a32e32",
   "metadata": {},
   "outputs": [
    {
     "data": {
      "text/plain": [
       "Pipeline(id=1cecd257294f48a092c34ad05b72f497, tasks=['processor_1', 'processor_2'])"
      ]
     },
     "execution_count": 8,
     "metadata": {},
     "output_type": "execute_result"
    }
   ],
   "source": [
    "pipeline = Pipeline([\n",
    "    (\"processor_1\", Processor()),\n",
    "    (\"processor_2\", Processor()),\n",
    "])\n",
    "pipeline"
   ]
  },
  {
   "cell_type": "markdown",
   "id": "ca76530f",
   "metadata": {},
   "source": [
    "# Pipelines as Tasks"
   ]
  },
  {
   "cell_type": "code",
   "execution_count": 9,
   "id": "ebfd5adb",
   "metadata": {},
   "outputs": [
    {
     "name": "stdout",
     "output_type": "stream",
     "text": [
      "Pipeline(id=8e71b22fbcfe4a1eab90873b59fe0767, tasks=['data_loader', 'processor_1', 'pipeline', 'classifier_1'])\n",
      "Pipeline(id=484685e395734b1b9c7f884c7efd47e3, tasks=['data_loader', 'processor_1', 'pipeline', 'classifier_2'])\n",
      "Pipeline(id=c1caa1847d624344be609e049392a9fc, tasks=['data_loader', 'processor_1', 'classifier_1'])\n",
      "Pipeline(id=bf6074364986466e9296aafd67812295, tasks=['data_loader', 'processor_1', 'classifier_2'])\n",
      "Pipeline(id=9c823d172b944367aec1e32a63c78db6, tasks=['data_loader', 'pipeline', 'processor_1', 'classifier_1'])\n",
      "Pipeline(id=b1c079b8031441a7b1d95b669c8e6386, tasks=['data_loader', 'pipeline', 'processor_1', 'classifier_2'])\n",
      "Pipeline(id=1316e597d0e14868a57dc96f720b6c5e, tasks=['data_loader', 'pipeline', 'classifier_1'])\n",
      "Pipeline(id=aacbb7660b324f0a82708b92144b25b9, tasks=['data_loader', 'pipeline', 'classifier_2'])\n"
     ]
    }
   ],
   "source": [
    "repository = Repository([\n",
    "    (\"data_loader\", DataLoader()),\n",
    "    (\"processor_1\", Processor()),\n",
    "    (\"pipeline\", pipeline),\n",
    "    (\"classifier_1\", Classifier()),\n",
    "    (\"classifier_2\", Classifier()),\n",
    "])\n",
    "pipeline_dict = repository.build_pipelines()\n",
    "for pipeline in pipeline_dict.values():\n",
    "    print(pipeline)\n"
   ]
  },
  {
   "cell_type": "code",
   "execution_count": null,
   "id": "a4fa5310",
   "metadata": {},
   "outputs": [],
   "source": []
  }
 ],
 "metadata": {
  "kernelspec": {
   "display_name": "base",
   "language": "python",
   "name": "python3"
  },
  "language_info": {
   "codemirror_mode": {
    "name": "ipython",
    "version": 3
   },
   "file_extension": ".py",
   "mimetype": "text/x-python",
   "name": "python",
   "nbconvert_exporter": "python",
   "pygments_lexer": "ipython3",
   "version": "3.13.2"
  }
 },
 "nbformat": 4,
 "nbformat_minor": 5
}
