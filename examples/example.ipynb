{
 "cells": [
  {
   "cell_type": "markdown",
   "id": "67596aca",
   "metadata": {},
   "source": [
    "# Basic Example"
   ]
  },
  {
   "cell_type": "code",
   "execution_count": 1,
   "id": "13a0f426",
   "metadata": {},
   "outputs": [
    {
     "name": "stdout",
     "output_type": "stream",
     "text": [
      "Pipeline(id=851f7a068beb44ebb7e1ca5bed590ccf, tasks=['data_loader', 'processor_1', 'processor_2', 'classifier_1'])\n",
      "Pipeline(id=cac1f35a60734e38a2a1b6a9215271a0, tasks=['data_loader', 'processor_1', 'processor_2', 'classifier_2'])\n",
      "Pipeline(id=d8e0b0d74bb64b1883b304ea4cc2959b, tasks=['data_loader', 'processor_1', 'classifier_1'])\n",
      "Pipeline(id=bd6e2124971d4c1fb1d0794ad86eebde, tasks=['data_loader', 'processor_1', 'classifier_2'])\n",
      "Pipeline(id=4f7780626741448a987f52159c350510, tasks=['data_loader', 'processor_2', 'processor_1', 'classifier_1'])\n",
      "Pipeline(id=735dc9ba9fb147b09c5be710c5c74eed, tasks=['data_loader', 'processor_2', 'processor_1', 'classifier_2'])\n",
      "Pipeline(id=7f66a8d8f8124d4c88e33d34bb9ac7df, tasks=['data_loader', 'processor_2', 'classifier_1'])\n",
      "Pipeline(id=fee76cda622849ff89d5f1d000a55418, tasks=['data_loader', 'processor_2', 'classifier_2'])\n"
     ]
    }
   ],
   "source": [
    "from pypekit import Task, Repository, CachedExecutor, Pipeline\n",
    "\n",
    "class DataLoader(Task):\n",
    "    input_types = [\"source\"]\n",
    "    output_types = [\"raw\"]\n",
    "\n",
    "    def run(self, _):\n",
    "        print(f\"Running DataLoader\")\n",
    "        return \"output\"\n",
    "\n",
    "class Processor(Task):\n",
    "    input_types = [\"raw\", \"processed\"]\n",
    "    output_types = [\"processed\"]\n",
    "\n",
    "    def run(self, _):\n",
    "        print(f\"Running Processor\")\n",
    "        return \"output\"\n",
    "\n",
    "class Classifier(Task):\n",
    "    input_types = [\"processed\"]\n",
    "    output_types = [\"sink\"]\n",
    "\n",
    "    def run(self, _):\n",
    "        print(f\"Running Classifier\")\n",
    "        return \"output\"\n",
    "\n",
    "repository = Repository([\n",
    "    (\"data_loader\", DataLoader()),\n",
    "    (\"processor_1\", Processor()),\n",
    "    (\"processor_2\", Processor()),\n",
    "    (\"classifier_1\", Classifier()),\n",
    "    (\"classifier_2\", Classifier()),\n",
    "])\n",
    "pipeline_dict = repository.build_pipelines()\n",
    "for p in pipeline_dict.values():\n",
    "    print(p)"
   ]
  },
  {
   "cell_type": "code",
   "execution_count": 2,
   "id": "860359c6",
   "metadata": {},
   "outputs": [
    {
     "name": "stdout",
     "output_type": "stream",
     "text": [
      "Running DataLoader\n",
      "Running Processor\n",
      "Running Processor\n",
      "Running Classifier\n",
      "Ran pipeline 851f7a068beb44ebb7e1ca5bed590ccf. Runtime: 0.00s. 1/8 pipelines completed.\n",
      "Running Classifier\n",
      "Ran pipeline cac1f35a60734e38a2a1b6a9215271a0. Runtime: 0.00s. 2/8 pipelines completed.\n",
      "Running Classifier\n",
      "Ran pipeline d8e0b0d74bb64b1883b304ea4cc2959b. Runtime: 0.00s. 3/8 pipelines completed.\n",
      "Running Classifier\n",
      "Ran pipeline bd6e2124971d4c1fb1d0794ad86eebde. Runtime: 0.00s. 4/8 pipelines completed.\n",
      "Running Processor\n",
      "Running Processor\n",
      "Running Classifier\n",
      "Ran pipeline 4f7780626741448a987f52159c350510. Runtime: 0.00s. 5/8 pipelines completed.\n",
      "Running Classifier\n",
      "Ran pipeline 735dc9ba9fb147b09c5be710c5c74eed. Runtime: 0.00s. 6/8 pipelines completed.\n",
      "Running Classifier\n",
      "Ran pipeline 7f66a8d8f8124d4c88e33d34bb9ac7df. Runtime: 0.00s. 7/8 pipelines completed.\n",
      "Running Classifier\n",
      "Ran pipeline fee76cda622849ff89d5f1d000a55418. Runtime: 0.00s. 8/8 pipelines completed.\n"
     ]
    }
   ],
   "source": [
    "executor = CachedExecutor(pipeline_dict, verbose=True)\n",
    "results = executor.run()"
   ]
  },
  {
   "cell_type": "code",
   "execution_count": 3,
   "id": "fb407c6e",
   "metadata": {},
   "outputs": [
    {
     "name": "stdout",
     "output_type": "stream",
     "text": [
      "{'pipeline_id': '851f7a068beb44ebb7e1ca5bed590ccf', 'output': 'output', 'runtime': 0.00010149999999997661, 'tasks': ['data_loader', 'processor_1', 'processor_2', 'classifier_1']}\n",
      "{'pipeline_id': 'cac1f35a60734e38a2a1b6a9215271a0', 'output': 'output', 'runtime': 0.0001006999999999536, 'tasks': ['data_loader', 'processor_1', 'processor_2', 'classifier_2']}\n",
      "{'pipeline_id': 'd8e0b0d74bb64b1883b304ea4cc2959b', 'output': 'output', 'runtime': 9.860000000005975e-05, 'tasks': ['data_loader', 'processor_1', 'classifier_1']}\n",
      "{'pipeline_id': 'bd6e2124971d4c1fb1d0794ad86eebde', 'output': 'output', 'runtime': 9.230000000004512e-05, 'tasks': ['data_loader', 'processor_1', 'classifier_2']}\n",
      "{'pipeline_id': '4f7780626741448a987f52159c350510', 'output': 'output', 'runtime': 8.010000000002737e-05, 'tasks': ['data_loader', 'processor_2', 'processor_1', 'classifier_1']}\n",
      "{'pipeline_id': '735dc9ba9fb147b09c5be710c5c74eed', 'output': 'output', 'runtime': 8.039999999998049e-05, 'tasks': ['data_loader', 'processor_2', 'processor_1', 'classifier_2']}\n",
      "{'pipeline_id': '7f66a8d8f8124d4c88e33d34bb9ac7df', 'output': 'output', 'runtime': 7.460000000003575e-05, 'tasks': ['data_loader', 'processor_2', 'classifier_1']}\n",
      "{'pipeline_id': 'fee76cda622849ff89d5f1d000a55418', 'output': 'output', 'runtime': 7.449999999997736e-05, 'tasks': ['data_loader', 'processor_2', 'classifier_2']}\n"
     ]
    }
   ],
   "source": [
    "for r in results.values():\n",
    "    print(r)"
   ]
  },
  {
   "cell_type": "markdown",
   "id": "1df8b226",
   "metadata": {},
   "source": [
    "# Reusing Cache"
   ]
  },
  {
   "cell_type": "code",
   "execution_count": 4,
   "id": "5c4ced3e",
   "metadata": {},
   "outputs": [
    {
     "name": "stdout",
     "output_type": "stream",
     "text": [
      "Ran pipeline 851f7a068beb44ebb7e1ca5bed590ccf. Runtime: 0.00s. 1/8 pipelines completed.\n",
      "Ran pipeline cac1f35a60734e38a2a1b6a9215271a0. Runtime: 0.00s. 2/8 pipelines completed.\n",
      "Ran pipeline d8e0b0d74bb64b1883b304ea4cc2959b. Runtime: 0.00s. 3/8 pipelines completed.\n",
      "Ran pipeline bd6e2124971d4c1fb1d0794ad86eebde. Runtime: 0.00s. 4/8 pipelines completed.\n",
      "Ran pipeline 4f7780626741448a987f52159c350510. Runtime: 0.00s. 5/8 pipelines completed.\n",
      "Ran pipeline 735dc9ba9fb147b09c5be710c5c74eed. Runtime: 0.00s. 6/8 pipelines completed.\n",
      "Ran pipeline 7f66a8d8f8124d4c88e33d34bb9ac7df. Runtime: 0.00s. 7/8 pipelines completed.\n",
      "Ran pipeline fee76cda622849ff89d5f1d000a55418. Runtime: 0.00s. 8/8 pipelines completed.\n"
     ]
    }
   ],
   "source": [
    "new_executor = CachedExecutor(pipeline_dict, cache=executor.cache, verbose=True)\n",
    "new_executor.run();"
   ]
  },
  {
   "cell_type": "markdown",
   "id": "b276873a",
   "metadata": {},
   "source": [
    "# Custom Pipelines"
   ]
  },
  {
   "cell_type": "code",
   "execution_count": 5,
   "id": "98a32e32",
   "metadata": {},
   "outputs": [
    {
     "data": {
      "text/plain": [
       "Pipeline(id=d1567f7a10cf4496bfd55958da6a2d54, tasks=['processor_1', 'processor_2'])"
      ]
     },
     "execution_count": 5,
     "metadata": {},
     "output_type": "execute_result"
    }
   ],
   "source": [
    "pipeline = Pipeline([\n",
    "    (\"processor_1\", Processor()),\n",
    "    (\"processor_2\", Processor()),\n",
    "])\n",
    "pipeline"
   ]
  },
  {
   "cell_type": "markdown",
   "id": "ca76530f",
   "metadata": {},
   "source": [
    "# Pipelines as Tasks"
   ]
  },
  {
   "cell_type": "code",
   "execution_count": 6,
   "id": "ebfd5adb",
   "metadata": {},
   "outputs": [
    {
     "name": "stdout",
     "output_type": "stream",
     "text": [
      "Pipeline(id=f67bedf726d74e2f89f36b3ed3c549e3, tasks=['data_loader', 'processor_1', 'pipeline', 'classifier_1'])\n",
      "Pipeline(id=59b2c38eee81427d97cf1e32ec293510, tasks=['data_loader', 'processor_1', 'pipeline', 'classifier_2'])\n",
      "Pipeline(id=b5b7acfbfe894299aa7deb912ee6c287, tasks=['data_loader', 'processor_1', 'classifier_1'])\n",
      "Pipeline(id=e5d5bd0b627e4ae1b149a5ad6406b237, tasks=['data_loader', 'processor_1', 'classifier_2'])\n",
      "Pipeline(id=b6a6d60757ec4561a66bd07583211726, tasks=['data_loader', 'pipeline', 'processor_1', 'classifier_1'])\n",
      "Pipeline(id=f4ca7a1f60d646c4bd8d562a33f84a5d, tasks=['data_loader', 'pipeline', 'processor_1', 'classifier_2'])\n",
      "Pipeline(id=706ed12ffed745b5bb419c8b23666bd3, tasks=['data_loader', 'pipeline', 'classifier_1'])\n",
      "Pipeline(id=4f7c5662959c49fe917b491edfc64c6d, tasks=['data_loader', 'pipeline', 'classifier_2'])\n"
     ]
    }
   ],
   "source": [
    "repository = Repository([\n",
    "    (\"data_loader\", DataLoader()),\n",
    "    (\"processor_1\", Processor()),\n",
    "    (\"pipeline\", pipeline),\n",
    "    (\"classifier_1\", Classifier()),\n",
    "    (\"classifier_2\", Classifier()),\n",
    "])\n",
    "pipeline_dict = repository.build_pipelines()\n",
    "for pipeline in pipeline_dict.values():\n",
    "    print(pipeline)\n"
   ]
  },
  {
   "cell_type": "code",
   "execution_count": null,
   "id": "a4fa5310",
   "metadata": {},
   "outputs": [],
   "source": []
  }
 ],
 "metadata": {
  "kernelspec": {
   "display_name": "base",
   "language": "python",
   "name": "python3"
  },
  "language_info": {
   "codemirror_mode": {
    "name": "ipython",
    "version": 3
   },
   "file_extension": ".py",
   "mimetype": "text/x-python",
   "name": "python",
   "nbconvert_exporter": "python",
   "pygments_lexer": "ipython3",
   "version": "3.13.2"
  }
 },
 "nbformat": 4,
 "nbformat_minor": 5
}
