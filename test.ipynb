{
 "cells": [
  {
   "cell_type": "code",
   "execution_count": 1,
   "id": "13a0f426",
   "metadata": {},
   "outputs": [
    {
     "name": "stdout",
     "output_type": "stream",
     "text": [
      "Pipeline(id=6b49d284-100a-45be-b4fb-76d9796e642f, tasks=['example_task1_0', 'example_task2_0', 'example_task3_0'])\n",
      "Pipeline(id=f530b558-cd5c-42e7-81d3-46a55708922c, tasks=['example_task1_0', 'example_task2_0', 'example_task3_1'])\n",
      "Pipeline(id=0ff494c9-bd48-4dee-8a68-8c86be5414b3, tasks=['example_task1_0', 'example_task2_1', 'example_task3_0'])\n",
      "Pipeline(id=156fe9d7-c707-4deb-9251-b1ea87840664, tasks=['example_task1_0', 'example_task2_1', 'example_task3_1'])\n",
      "Pipeline(id=efa3beb2-b79a-4169-b326-93f90530a76c, tasks=['example_task1_1', 'example_task2_0', 'example_task3_0'])\n",
      "Pipeline(id=94de6219-6c76-4bb2-bd63-c47f757be685, tasks=['example_task1_1', 'example_task2_0', 'example_task3_1'])\n",
      "Pipeline(id=984fdcd1-99b5-47e7-b4fc-1e78f35137e4, tasks=['example_task1_1', 'example_task2_1', 'example_task3_0'])\n",
      "Pipeline(id=9cdf5c8f-1bfc-477d-abed-3e449823ea83, tasks=['example_task1_1', 'example_task2_1', 'example_task3_1'])\n",
      "Running ExampleTask\n",
      "Running ExampleTask2\n",
      "Running ExampleTask3\n",
      "Running ExampleTask3\n",
      "Running ExampleTask2\n",
      "Running ExampleTask3\n",
      "Running ExampleTask3\n",
      "Running ExampleTask\n",
      "Running ExampleTask2\n",
      "Running ExampleTask3\n",
      "Running ExampleTask3\n",
      "Running ExampleTask2\n",
      "Running ExampleTask3\n",
      "Running ExampleTask3\n"
     ]
    },
    {
     "data": {
      "text/plain": [
       "[{'pipeline_id': '6b49d284-100a-45be-b4fb-76d9796e642f',\n",
       "  'output_path': 'output path 3',\n",
       "  'tasks': ['example_task1_0', 'example_task2_0', 'example_task3_0']},\n",
       " {'pipeline_id': 'f530b558-cd5c-42e7-81d3-46a55708922c',\n",
       "  'output_path': 'output path 3',\n",
       "  'tasks': ['example_task1_0', 'example_task2_0', 'example_task3_1']},\n",
       " {'pipeline_id': '0ff494c9-bd48-4dee-8a68-8c86be5414b3',\n",
       "  'output_path': 'output path 3',\n",
       "  'tasks': ['example_task1_0', 'example_task2_1', 'example_task3_0']},\n",
       " {'pipeline_id': '156fe9d7-c707-4deb-9251-b1ea87840664',\n",
       "  'output_path': 'output path 3',\n",
       "  'tasks': ['example_task1_0', 'example_task2_1', 'example_task3_1']},\n",
       " {'pipeline_id': 'efa3beb2-b79a-4169-b326-93f90530a76c',\n",
       "  'output_path': 'output path 3',\n",
       "  'tasks': ['example_task1_1', 'example_task2_0', 'example_task3_0']},\n",
       " {'pipeline_id': '94de6219-6c76-4bb2-bd63-c47f757be685',\n",
       "  'output_path': 'output path 3',\n",
       "  'tasks': ['example_task1_1', 'example_task2_0', 'example_task3_1']},\n",
       " {'pipeline_id': '984fdcd1-99b5-47e7-b4fc-1e78f35137e4',\n",
       "  'output_path': 'output path 3',\n",
       "  'tasks': ['example_task1_1', 'example_task2_1', 'example_task3_0']},\n",
       " {'pipeline_id': '9cdf5c8f-1bfc-477d-abed-3e449823ea83',\n",
       "  'output_path': 'output path 3',\n",
       "  'tasks': ['example_task1_1', 'example_task2_1', 'example_task3_1']}]"
      ]
     },
     "execution_count": 1,
     "metadata": {},
     "output_type": "execute_result"
    }
   ],
   "source": [
    "from pypekit import Task, Repository, CachedExecutor\n",
    "\n",
    "class ExampleTask(Task):\n",
    "    output_type = \"1\"\n",
    "\n",
    "    def run(self, input_path, output_path):\n",
    "        print(f\"Running ExampleTask\")\n",
    "        return \"output path 1\"\n",
    "\n",
    "class ExampleTask2(Task):\n",
    "    input_type = \"1\"\n",
    "    output_type = \"2\"\n",
    "        \n",
    "    def run(self, input_path, output_path):\n",
    "        print(f\"Running ExampleTask2\")\n",
    "        return \"output path 2\"\n",
    "\n",
    "class ExampleTask3(Task):\n",
    "    input_type = \"2\"\n",
    "        \n",
    "    def run(self, input_path, output_path):\n",
    "        print(f\"Running ExampleTask3\")\n",
    "        return \"output path 3\"\n",
    "    \n",
    "repository = Repository([\n",
    "    (\"example_task1_0\", ExampleTask()),\n",
    "    (\"example_task1_1\", ExampleTask()),\n",
    "    (\"example_task2_0\", ExampleTask2()),\n",
    "    (\"example_task2_1\", ExampleTask2()),\n",
    "    (\"example_task3_0\", ExampleTask3()),\n",
    "    (\"example_task3_1\", ExampleTask3())\n",
    "])\n",
    "pipelines = repository.build_pipelines()\n",
    "for pipeline in pipelines:\n",
    "    print(pipeline)\n",
    "\n",
    "executor = CachedExecutor(\".\", pipelines)\n",
    "executor.run()\n",
    "\n",
    "executor.results"
   ]
  },
  {
   "cell_type": "code",
   "execution_count": 2,
   "id": "41a1c186",
   "metadata": {},
   "outputs": [
    {
     "name": "stdout",
     "output_type": "stream",
     "text": [
      "Built 1000000 pipelines in 3.63 seconds\n"
     ]
    }
   ],
   "source": [
    "n = 100\n",
    "\n",
    "repository = Repository(\n",
    "    [(f\"example_task1_{i}\", ExampleTask()) for i in range(n)] +\n",
    "    [(f\"example_task2_{i}\", ExampleTask2()) for i in range(n)] +\n",
    "    [(f\"example_task3_{i}\", ExampleTask3()) for i in range(n)] \n",
    ")\n",
    "\n",
    "from time import time\n",
    "start = time()\n",
    "pipelines = repository.build_pipelines()\n",
    "print(f\"Built {len(pipelines)} pipelines in {time() - start:.2f} seconds\")"
   ]
  },
  {
   "cell_type": "code",
   "execution_count": 3,
   "id": "eb083f9f",
   "metadata": {},
   "outputs": [
    {
     "name": "stdout",
     "output_type": "stream",
     "text": [
      "Pipeline(id=0f0a5418-82d9-4151-bf59-143a6e8c0fd7, tasks=['example_task1_0', 'example_task2_0', 'example_task3_0'])\n",
      "Pipeline(id=12176cfe-17c7-476e-ac63-5ae64f62aa42, tasks=['example_task1_0', 'example_task2_0', 'example_task3_1'])\n",
      "Pipeline(id=68579aaa-8565-44f8-be78-a69dac14c445, tasks=['example_task1_0', 'example_task2_1', 'example_task3_0'])\n",
      "Pipeline(id=d91cc723-ab7b-4646-ae4a-d1112839be10, tasks=['example_task1_0', 'example_task2_1', 'example_task3_1'])\n",
      "Pipeline(id=403ddb23-e662-40cd-af10-fab536da41e9, tasks=['example_task1_1', 'example_task2_0', 'example_task3_0'])\n",
      "Pipeline(id=b4f0c1a0-a8c5-487d-b224-5effd4fc6ddd, tasks=['example_task1_1', 'example_task2_0', 'example_task3_1'])\n",
      "Pipeline(id=0efbdf87-8de0-4089-925f-3a1425162873, tasks=['example_task1_1', 'example_task2_1', 'example_task3_0'])\n",
      "Pipeline(id=dddf3bb5-bb2f-4bef-ad9d-6f4f879086bb, tasks=['example_task1_1', 'example_task2_1', 'example_task3_1'])\n",
      "Pipeline(id=8bb4d51b-9ce2-456a-8c6a-4b89950cc756, tasks=['example_task0_0', 'example_task3_0'])\n",
      "Pipeline(id=976a4466-ade7-491d-95b2-846cfa146741, tasks=['example_task0_0', 'example_task3_1'])\n",
      "Pipeline(id=6faeb438-3750-44fb-b141-a4ead45f8cab, tasks=['example_task0_1', 'example_task3_0'])\n",
      "Pipeline(id=298f5c8d-5eea-45a9-92c4-843ddf9d40f2, tasks=['example_task0_1', 'example_task3_1'])\n"
     ]
    }
   ],
   "source": [
    "class ExampleTask0(Task):\n",
    "    output_type = \"2\"\n",
    "\n",
    "    def run(self, input_path, output_path):\n",
    "        print(f\"Running ExampleTask\")\n",
    "        return \"output path 0\"\n",
    "\n",
    "repository = Repository([\n",
    "    (\"example_task1_0\", ExampleTask()),\n",
    "    (\"example_task1_1\", ExampleTask()),\n",
    "    (\"example_task2_0\", ExampleTask2()),\n",
    "    (\"example_task2_1\", ExampleTask2()),\n",
    "    (\"example_task3_0\", ExampleTask3()),\n",
    "    (\"example_task3_1\", ExampleTask3()),\n",
    "    (\"example_task0_0\", ExampleTask0()),\n",
    "    (\"example_task0_1\", ExampleTask0())\n",
    "])\n",
    "pipelines = repository.build_pipelines()\n",
    "for pipeline in pipelines:\n",
    "    print(pipeline)"
   ]
  }
 ],
 "metadata": {
  "kernelspec": {
   "display_name": "base",
   "language": "python",
   "name": "python3"
  },
  "language_info": {
   "codemirror_mode": {
    "name": "ipython",
    "version": 3
   },
   "file_extension": ".py",
   "mimetype": "text/x-python",
   "name": "python",
   "nbconvert_exporter": "python",
   "pygments_lexer": "ipython3",
   "version": "3.13.2"
  }
 },
 "nbformat": 4,
 "nbformat_minor": 5
}
