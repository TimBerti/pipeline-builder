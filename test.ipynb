{
 "cells": [
  {
   "cell_type": "code",
   "execution_count": 3,
   "id": "13a0f426",
   "metadata": {},
   "outputs": [
    {
     "name": "stdout",
     "output_type": "stream",
     "text": [
      "Pipeline(id=f16bd335-4c47-4d4b-97d8-f74ddcb046e1, tasks=['example_task1_0', 'example_task2_0', 'example_task3_0'])\n",
      "Pipeline(id=1c26ad56-b411-4e37-afb7-9c4ad6378899, tasks=['example_task1_0', 'example_task2_0', 'example_task3_1'])\n",
      "Pipeline(id=3c5f48e9-e105-457c-a659-3a940eafaf67, tasks=['example_task1_0', 'example_task2_1', 'example_task3_0'])\n",
      "Pipeline(id=c36c8e19-977b-4038-a3ce-64398308576f, tasks=['example_task1_0', 'example_task2_1', 'example_task3_1'])\n",
      "Pipeline(id=f2616062-e48f-4c24-9fcf-46e266a23bbd, tasks=['example_task1_1', 'example_task2_0', 'example_task3_0'])\n",
      "Pipeline(id=0a71080d-8f8f-45c3-9a42-8506d2ef9dc5, tasks=['example_task1_1', 'example_task2_0', 'example_task3_1'])\n",
      "Pipeline(id=a049ea1d-e177-4a8b-bf20-d8ced02e23da, tasks=['example_task1_1', 'example_task2_1', 'example_task3_0'])\n",
      "Pipeline(id=0ffb0e0f-5006-4f24-8720-5e8cded7292c, tasks=['example_task1_1', 'example_task2_1', 'example_task3_1'])\n",
      "Running ExampleTask\n",
      "Running ExampleTask2\n",
      "Running ExampleTask3\n",
      "Pipeline f16bd335-4c47-4d4b-97d8-f74ddcb046e1 completed.\n",
      "Running ExampleTask3\n",
      "Pipeline 1c26ad56-b411-4e37-afb7-9c4ad6378899 completed.\n",
      "Running ExampleTask2\n",
      "Running ExampleTask3\n",
      "Pipeline 3c5f48e9-e105-457c-a659-3a940eafaf67 completed.\n",
      "Running ExampleTask3\n",
      "Pipeline c36c8e19-977b-4038-a3ce-64398308576f completed.\n",
      "Running ExampleTask\n",
      "Running ExampleTask2\n",
      "Running ExampleTask3\n",
      "Pipeline f2616062-e48f-4c24-9fcf-46e266a23bbd completed.\n",
      "Running ExampleTask3\n",
      "Pipeline 0a71080d-8f8f-45c3-9a42-8506d2ef9dc5 completed.\n",
      "Running ExampleTask2\n",
      "Running ExampleTask3\n",
      "Pipeline a049ea1d-e177-4a8b-bf20-d8ced02e23da completed.\n",
      "Running ExampleTask3\n",
      "Pipeline 0ffb0e0f-5006-4f24-8720-5e8cded7292c completed.\n"
     ]
    },
    {
     "data": {
      "text/plain": [
       "[{'pipeline_id': 'f16bd335-4c47-4d4b-97d8-f74ddcb046e1',\n",
       "  'output_path': None,\n",
       "  'tasks': ['example_task1_0', 'example_task2_0', 'example_task3_0']},\n",
       " {'pipeline_id': '1c26ad56-b411-4e37-afb7-9c4ad6378899',\n",
       "  'output_path': None,\n",
       "  'tasks': ['example_task1_0', 'example_task2_0', 'example_task3_1']},\n",
       " {'pipeline_id': '3c5f48e9-e105-457c-a659-3a940eafaf67',\n",
       "  'output_path': None,\n",
       "  'tasks': ['example_task1_0', 'example_task2_1', 'example_task3_0']},\n",
       " {'pipeline_id': 'c36c8e19-977b-4038-a3ce-64398308576f',\n",
       "  'output_path': None,\n",
       "  'tasks': ['example_task1_0', 'example_task2_1', 'example_task3_1']},\n",
       " {'pipeline_id': 'f2616062-e48f-4c24-9fcf-46e266a23bbd',\n",
       "  'output_path': None,\n",
       "  'tasks': ['example_task1_1', 'example_task2_0', 'example_task3_0']},\n",
       " {'pipeline_id': '0a71080d-8f8f-45c3-9a42-8506d2ef9dc5',\n",
       "  'output_path': None,\n",
       "  'tasks': ['example_task1_1', 'example_task2_0', 'example_task3_1']},\n",
       " {'pipeline_id': 'a049ea1d-e177-4a8b-bf20-d8ced02e23da',\n",
       "  'output_path': None,\n",
       "  'tasks': ['example_task1_1', 'example_task2_1', 'example_task3_0']},\n",
       " {'pipeline_id': '0ffb0e0f-5006-4f24-8720-5e8cded7292c',\n",
       "  'output_path': None,\n",
       "  'tasks': ['example_task1_1', 'example_task2_1', 'example_task3_1']}]"
      ]
     },
     "execution_count": 3,
     "metadata": {},
     "output_type": "execute_result"
    }
   ],
   "source": [
    "from pipeline_synthesizer import Task, Repository, CachedExecutor\n",
    "\n",
    "class ExampleTask(Task):\n",
    "    output_category = \"1\"\n",
    "\n",
    "    def run(self, input_path, output_path):\n",
    "        print(f\"Running ExampleTask\")\n",
    "\n",
    "class ExampleTask2(Task):\n",
    "    input_category = \"1\"\n",
    "    output_category = \"2\"\n",
    "        \n",
    "    def run(self, input_path, output_path):\n",
    "        print(f\"Running ExampleTask2\")\n",
    "\n",
    "class ExampleTask3(Task):\n",
    "    input_category = \"2\"\n",
    "        \n",
    "    def run(self, input_path, output_path):\n",
    "        print(f\"Running ExampleTask3\")\n",
    "    \n",
    "repository = Repository([\n",
    "    (\"example_task1_0\", ExampleTask()),\n",
    "    (\"example_task1_1\", ExampleTask()),\n",
    "    (\"example_task2_0\", ExampleTask2()),\n",
    "    (\"example_task2_1\", ExampleTask2()),\n",
    "    (\"example_task3_0\", ExampleTask3()),\n",
    "    (\"example_task3_1\", ExampleTask3())\n",
    "])\n",
    "pipelines = repository.build_pipelines()\n",
    "for pipeline in pipelines:\n",
    "    print(pipeline)\n",
    "\n",
    "executor = CachedExecutor(\".\", pipelines)\n",
    "executor.run()\n",
    "\n",
    "executor.results"
   ]
  },
  {
   "cell_type": "code",
   "execution_count": 8,
   "id": "41a1c186",
   "metadata": {},
   "outputs": [
    {
     "name": "stdout",
     "output_type": "stream",
     "text": [
      "Built 1000000 pipelines in 5.11 seconds\n"
     ]
    }
   ],
   "source": [
    "n = 100\n",
    "\n",
    "repository = Repository(\n",
    "    [(f\"example_task1_{i}\", ExampleTask()) for i in range(n)] +\n",
    "    [(f\"example_task2_{i}\", ExampleTask2()) for i in range(n)] +\n",
    "    [(f\"example_task3_{i}\", ExampleTask3()) for i in range(n)] \n",
    ")\n",
    "\n",
    "from time import time\n",
    "start = time()\n",
    "pipelines = repository.build_pipelines()\n",
    "print(f\"Built {len(pipelines)} pipelines in {time() - start:.2f} seconds\")"
   ]
  },
  {
   "cell_type": "code",
   "execution_count": null,
   "id": "eb083f9f",
   "metadata": {},
   "outputs": [],
   "source": []
  }
 ],
 "metadata": {
  "kernelspec": {
   "display_name": "base",
   "language": "python",
   "name": "python3"
  },
  "language_info": {
   "codemirror_mode": {
    "name": "ipython",
    "version": 3
   },
   "file_extension": ".py",
   "mimetype": "text/x-python",
   "name": "python",
   "nbconvert_exporter": "python",
   "pygments_lexer": "ipython3",
   "version": "3.11.5"
  }
 },
 "nbformat": 4,
 "nbformat_minor": 5
}
