{
 "cells": [
  {
   "cell_type": "code",
   "execution_count": 1,
   "id": "13a0f426",
   "metadata": {},
   "outputs": [
    {
     "name": "stdout",
     "output_type": "stream",
     "text": [
      "Pipeline(id=ca637d9a-043b-49c6-a882-0e40ae585f17, tasks=['example_task1_0', 'example_task2_0', 'example_task3_0'])\n",
      "Pipeline(id=b539254a-5a98-46c2-b1ae-ac9f35150bff, tasks=['example_task1_0', 'example_task2_0', 'example_task3_1'])\n",
      "Pipeline(id=70b05f57-74d7-43a5-8367-e2f981e11d42, tasks=['example_task1_0', 'example_task2_1', 'example_task3_0'])\n",
      "Pipeline(id=5798a581-b76f-4f84-a4d2-b68ba97e50bf, tasks=['example_task1_0', 'example_task2_1', 'example_task3_1'])\n",
      "Pipeline(id=479c0f05-2e88-40fe-92ba-e7f165dde5d0, tasks=['example_task1_1', 'example_task2_0', 'example_task3_0'])\n",
      "Pipeline(id=18f746e4-3833-4c66-8226-baea06052c92, tasks=['example_task1_1', 'example_task2_0', 'example_task3_1'])\n",
      "Pipeline(id=a41fcdef-159f-4ff8-830e-39f00d9a0cd9, tasks=['example_task1_1', 'example_task2_1', 'example_task3_0'])\n",
      "Pipeline(id=4ce90b10-4ecb-4f66-b76a-58cad8c64df8, tasks=['example_task1_1', 'example_task2_1', 'example_task3_1'])\n",
      "Running ExampleTask\n",
      "Running ExampleTask2\n",
      "Running ExampleTask3\n",
      "Pipeline ca637d9a-043b-49c6-a882-0e40ae585f17 completed.\n",
      "Running ExampleTask3\n",
      "Pipeline b539254a-5a98-46c2-b1ae-ac9f35150bff completed.\n",
      "Running ExampleTask2\n",
      "Running ExampleTask3\n",
      "Pipeline 70b05f57-74d7-43a5-8367-e2f981e11d42 completed.\n",
      "Running ExampleTask3\n",
      "Pipeline 5798a581-b76f-4f84-a4d2-b68ba97e50bf completed.\n",
      "Running ExampleTask\n",
      "Running ExampleTask2\n",
      "Running ExampleTask3\n",
      "Pipeline 479c0f05-2e88-40fe-92ba-e7f165dde5d0 completed.\n",
      "Running ExampleTask3\n",
      "Pipeline 18f746e4-3833-4c66-8226-baea06052c92 completed.\n",
      "Running ExampleTask2\n",
      "Running ExampleTask3\n",
      "Pipeline a41fcdef-159f-4ff8-830e-39f00d9a0cd9 completed.\n",
      "Running ExampleTask3\n",
      "Pipeline 4ce90b10-4ecb-4f66-b76a-58cad8c64df8 completed.\n"
     ]
    },
    {
     "data": {
      "text/plain": [
       "[{'pipeline_id': 'ca637d9a-043b-49c6-a882-0e40ae585f17',\n",
       "  'output_path': 'output path 3',\n",
       "  'tasks': ['example_task1_0', 'example_task2_0', 'example_task3_0']},\n",
       " {'pipeline_id': 'b539254a-5a98-46c2-b1ae-ac9f35150bff',\n",
       "  'output_path': 'output path 3',\n",
       "  'tasks': ['example_task1_0', 'example_task2_0', 'example_task3_1']},\n",
       " {'pipeline_id': '70b05f57-74d7-43a5-8367-e2f981e11d42',\n",
       "  'output_path': 'output path 3',\n",
       "  'tasks': ['example_task1_0', 'example_task2_1', 'example_task3_0']},\n",
       " {'pipeline_id': '5798a581-b76f-4f84-a4d2-b68ba97e50bf',\n",
       "  'output_path': 'output path 3',\n",
       "  'tasks': ['example_task1_0', 'example_task2_1', 'example_task3_1']},\n",
       " {'pipeline_id': '479c0f05-2e88-40fe-92ba-e7f165dde5d0',\n",
       "  'output_path': 'output path 3',\n",
       "  'tasks': ['example_task1_1', 'example_task2_0', 'example_task3_0']},\n",
       " {'pipeline_id': '18f746e4-3833-4c66-8226-baea06052c92',\n",
       "  'output_path': 'output path 3',\n",
       "  'tasks': ['example_task1_1', 'example_task2_0', 'example_task3_1']},\n",
       " {'pipeline_id': 'a41fcdef-159f-4ff8-830e-39f00d9a0cd9',\n",
       "  'output_path': 'output path 3',\n",
       "  'tasks': ['example_task1_1', 'example_task2_1', 'example_task3_0']},\n",
       " {'pipeline_id': '4ce90b10-4ecb-4f66-b76a-58cad8c64df8',\n",
       "  'output_path': 'output path 3',\n",
       "  'tasks': ['example_task1_1', 'example_task2_1', 'example_task3_1']}]"
      ]
     },
     "execution_count": 1,
     "metadata": {},
     "output_type": "execute_result"
    }
   ],
   "source": [
    "from pypekit import Task, Repository, CachedExecutor\n",
    "\n",
    "class ExampleTask(Task):\n",
    "    output_category = \"1\"\n",
    "\n",
    "    def run(self, input_path, output_path):\n",
    "        print(f\"Running ExampleTask\")\n",
    "        return \"output path 1\"\n",
    "\n",
    "class ExampleTask2(Task):\n",
    "    input_category = \"1\"\n",
    "    output_category = \"2\"\n",
    "        \n",
    "    def run(self, input_path, output_path):\n",
    "        print(f\"Running ExampleTask2\")\n",
    "        return \"output path 2\"\n",
    "\n",
    "class ExampleTask3(Task):\n",
    "    input_category = \"2\"\n",
    "        \n",
    "    def run(self, input_path, output_path):\n",
    "        print(f\"Running ExampleTask3\")\n",
    "        return \"output path 3\"\n",
    "    \n",
    "repository = Repository([\n",
    "    (\"example_task1_0\", ExampleTask()),\n",
    "    (\"example_task1_1\", ExampleTask()),\n",
    "    (\"example_task2_0\", ExampleTask2()),\n",
    "    (\"example_task2_1\", ExampleTask2()),\n",
    "    (\"example_task3_0\", ExampleTask3()),\n",
    "    (\"example_task3_1\", ExampleTask3())\n",
    "])\n",
    "pipelines = repository.build_pipelines()\n",
    "for pipeline in pipelines:\n",
    "    print(pipeline)\n",
    "\n",
    "executor = CachedExecutor(\".\", pipelines)\n",
    "executor.run()\n",
    "\n",
    "executor.results"
   ]
  },
  {
   "cell_type": "code",
   "execution_count": 2,
   "id": "41a1c186",
   "metadata": {},
   "outputs": [
    {
     "name": "stdout",
     "output_type": "stream",
     "text": [
      "Built 1000000 pipelines in 3.94 seconds\n"
     ]
    }
   ],
   "source": [
    "n = 100\n",
    "\n",
    "repository = Repository(\n",
    "    [(f\"example_task1_{i}\", ExampleTask()) for i in range(n)] +\n",
    "    [(f\"example_task2_{i}\", ExampleTask2()) for i in range(n)] +\n",
    "    [(f\"example_task3_{i}\", ExampleTask3()) for i in range(n)] \n",
    ")\n",
    "\n",
    "from time import time\n",
    "start = time()\n",
    "pipelines = repository.build_pipelines()\n",
    "print(f\"Built {len(pipelines)} pipelines in {time() - start:.2f} seconds\")"
   ]
  },
  {
   "cell_type": "code",
   "execution_count": 3,
   "id": "eb083f9f",
   "metadata": {},
   "outputs": [
    {
     "name": "stdout",
     "output_type": "stream",
     "text": [
      "Pipeline(id=fdca4dce-fa82-43e4-80b8-e21511581ad8, tasks=['example_task1_0', 'example_task2_0', 'example_task3_0'])\n",
      "Pipeline(id=6677181d-6bff-4a6d-ba77-04d303ea4f9b, tasks=['example_task1_0', 'example_task2_0', 'example_task3_1'])\n",
      "Pipeline(id=66135dba-64df-4ada-bb5e-eb17ff297004, tasks=['example_task1_0', 'example_task2_1', 'example_task3_0'])\n",
      "Pipeline(id=2dcfd437-9f07-4a12-a4e4-9bf910c305a8, tasks=['example_task1_0', 'example_task2_1', 'example_task3_1'])\n",
      "Pipeline(id=01500f37-f4c6-42cd-a4be-8092c3ca5840, tasks=['example_task1_1', 'example_task2_0', 'example_task3_0'])\n",
      "Pipeline(id=53316d7e-b987-4b0f-b898-02b2d9e5467f, tasks=['example_task1_1', 'example_task2_0', 'example_task3_1'])\n",
      "Pipeline(id=056e0008-be71-4d69-935e-405c2afcb710, tasks=['example_task1_1', 'example_task2_1', 'example_task3_0'])\n",
      "Pipeline(id=2f7a94cf-7b8e-432c-9651-b1f65885be42, tasks=['example_task1_1', 'example_task2_1', 'example_task3_1'])\n",
      "Pipeline(id=f64790a7-5a80-42b2-bed1-0b92b4297ef4, tasks=['example_task0_0', 'example_task3_0'])\n",
      "Pipeline(id=ef6d38bc-4a9c-4ba4-9bee-83f918abc6e2, tasks=['example_task0_0', 'example_task3_1'])\n",
      "Pipeline(id=adacd016-94c3-4a04-8175-4b6021a2c0e1, tasks=['example_task0_1', 'example_task3_0'])\n",
      "Pipeline(id=3d67b46e-fb92-463b-80fd-b7e46afbb735, tasks=['example_task0_1', 'example_task3_1'])\n"
     ]
    }
   ],
   "source": [
    "class ExampleTask0(Task):\n",
    "    output_category = \"2\"\n",
    "\n",
    "    def run(self, input_path, output_path):\n",
    "        print(f\"Running ExampleTask\")\n",
    "        return \"output path 0\"\n",
    "\n",
    "repository = Repository([\n",
    "    (\"example_task1_0\", ExampleTask()),\n",
    "    (\"example_task1_1\", ExampleTask()),\n",
    "    (\"example_task2_0\", ExampleTask2()),\n",
    "    (\"example_task2_1\", ExampleTask2()),\n",
    "    (\"example_task3_0\", ExampleTask3()),\n",
    "    (\"example_task3_1\", ExampleTask3()),\n",
    "    (\"example_task0_0\", ExampleTask0()),\n",
    "    (\"example_task0_1\", ExampleTask0())\n",
    "])\n",
    "pipelines = repository.build_pipelines()\n",
    "for pipeline in pipelines:\n",
    "    print(pipeline)"
   ]
  }
 ],
 "metadata": {
  "kernelspec": {
   "display_name": "base",
   "language": "python",
   "name": "python3"
  },
  "language_info": {
   "codemirror_mode": {
    "name": "ipython",
    "version": 3
   },
   "file_extension": ".py",
   "mimetype": "text/x-python",
   "name": "python",
   "nbconvert_exporter": "python",
   "pygments_lexer": "ipython3",
   "version": "3.13.2"
  }
 },
 "nbformat": 4,
 "nbformat_minor": 5
}
