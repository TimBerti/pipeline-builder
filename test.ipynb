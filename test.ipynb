{
 "cells": [
  {
   "cell_type": "code",
   "execution_count": 1,
   "id": "13a0f426",
   "metadata": {},
   "outputs": [
    {
     "name": "stdout",
     "output_type": "stream",
     "text": [
      "Pipeline(id=05cd1897-364f-4c31-949a-21bdc84c734b, tasks=['example_task1_0', 'example_task2_0', 'example_task3_0'])\n",
      "Pipeline(id=4223300f-9727-484e-a75d-81caec313f4b, tasks=['example_task1_0', 'example_task2_0', 'example_task3_1'])\n",
      "Pipeline(id=392d322d-9f4c-41c8-8fe4-d2fd8862a978, tasks=['example_task1_0', 'example_task2_1', 'example_task3_0'])\n",
      "Pipeline(id=03ce8644-c440-4259-92c9-d1f6abf72db2, tasks=['example_task1_0', 'example_task2_1', 'example_task3_1'])\n",
      "Pipeline(id=92171c19-f837-49e5-af53-719399e07e91, tasks=['example_task1_1', 'example_task2_0', 'example_task3_0'])\n",
      "Pipeline(id=7ee62fae-51a0-4fd1-8488-3b8df10e8cfb, tasks=['example_task1_1', 'example_task2_0', 'example_task3_1'])\n",
      "Pipeline(id=7ae4039f-7e81-48ca-93b2-04b9ae093558, tasks=['example_task1_1', 'example_task2_1', 'example_task3_0'])\n",
      "Pipeline(id=72086721-6e6d-4b33-88ca-7109e5e89106, tasks=['example_task1_1', 'example_task2_1', 'example_task3_1'])\n",
      "Running ExampleTask\n",
      "Running ExampleTask2\n",
      "Running ExampleTask3\n",
      "Pipeline 05cd1897-364f-4c31-949a-21bdc84c734b completed.\n",
      "Running ExampleTask3\n",
      "Pipeline 4223300f-9727-484e-a75d-81caec313f4b completed.\n",
      "Running ExampleTask2\n",
      "Running ExampleTask3\n",
      "Pipeline 392d322d-9f4c-41c8-8fe4-d2fd8862a978 completed.\n",
      "Running ExampleTask3\n",
      "Pipeline 03ce8644-c440-4259-92c9-d1f6abf72db2 completed.\n",
      "Running ExampleTask\n",
      "Running ExampleTask2\n",
      "Running ExampleTask3\n",
      "Pipeline 92171c19-f837-49e5-af53-719399e07e91 completed.\n",
      "Running ExampleTask3\n",
      "Pipeline 7ee62fae-51a0-4fd1-8488-3b8df10e8cfb completed.\n",
      "Running ExampleTask2\n",
      "Running ExampleTask3\n",
      "Pipeline 7ae4039f-7e81-48ca-93b2-04b9ae093558 completed.\n",
      "Running ExampleTask3\n",
      "Pipeline 72086721-6e6d-4b33-88ca-7109e5e89106 completed.\n"
     ]
    },
    {
     "data": {
      "text/plain": [
       "[{'pipeline_id': '05cd1897-364f-4c31-949a-21bdc84c734b',\n",
       "  'output_path': 'output path 3',\n",
       "  'tasks': ['example_task1_0', 'example_task2_0', 'example_task3_0']},\n",
       " {'pipeline_id': '4223300f-9727-484e-a75d-81caec313f4b',\n",
       "  'output_path': 'output path 3',\n",
       "  'tasks': ['example_task1_0', 'example_task2_0', 'example_task3_1']},\n",
       " {'pipeline_id': '392d322d-9f4c-41c8-8fe4-d2fd8862a978',\n",
       "  'output_path': 'output path 3',\n",
       "  'tasks': ['example_task1_0', 'example_task2_1', 'example_task3_0']},\n",
       " {'pipeline_id': '03ce8644-c440-4259-92c9-d1f6abf72db2',\n",
       "  'output_path': 'output path 3',\n",
       "  'tasks': ['example_task1_0', 'example_task2_1', 'example_task3_1']},\n",
       " {'pipeline_id': '92171c19-f837-49e5-af53-719399e07e91',\n",
       "  'output_path': 'output path 3',\n",
       "  'tasks': ['example_task1_1', 'example_task2_0', 'example_task3_0']},\n",
       " {'pipeline_id': '7ee62fae-51a0-4fd1-8488-3b8df10e8cfb',\n",
       "  'output_path': 'output path 3',\n",
       "  'tasks': ['example_task1_1', 'example_task2_0', 'example_task3_1']},\n",
       " {'pipeline_id': '7ae4039f-7e81-48ca-93b2-04b9ae093558',\n",
       "  'output_path': 'output path 3',\n",
       "  'tasks': ['example_task1_1', 'example_task2_1', 'example_task3_0']},\n",
       " {'pipeline_id': '72086721-6e6d-4b33-88ca-7109e5e89106',\n",
       "  'output_path': 'output path 3',\n",
       "  'tasks': ['example_task1_1', 'example_task2_1', 'example_task3_1']}]"
      ]
     },
     "execution_count": 1,
     "metadata": {},
     "output_type": "execute_result"
    }
   ],
   "source": [
    "from pipeline_builder import Task, Repository, CachedExecutor\n",
    "\n",
    "class ExampleTask(Task):\n",
    "    output_category = \"1\"\n",
    "\n",
    "    def run(self, input_path, output_path):\n",
    "        print(f\"Running ExampleTask\")\n",
    "        return \"output path 1\"\n",
    "\n",
    "class ExampleTask2(Task):\n",
    "    input_category = \"1\"\n",
    "    output_category = \"2\"\n",
    "        \n",
    "    def run(self, input_path, output_path):\n",
    "        print(f\"Running ExampleTask2\")\n",
    "        return \"output path 2\"\n",
    "\n",
    "class ExampleTask3(Task):\n",
    "    input_category = \"2\"\n",
    "        \n",
    "    def run(self, input_path, output_path):\n",
    "        print(f\"Running ExampleTask3\")\n",
    "        return \"output path 3\"\n",
    "    \n",
    "repository = Repository([\n",
    "    (\"example_task1_0\", ExampleTask()),\n",
    "    (\"example_task1_1\", ExampleTask()),\n",
    "    (\"example_task2_0\", ExampleTask2()),\n",
    "    (\"example_task2_1\", ExampleTask2()),\n",
    "    (\"example_task3_0\", ExampleTask3()),\n",
    "    (\"example_task3_1\", ExampleTask3())\n",
    "])\n",
    "pipelines = repository.build_pipelines()\n",
    "for pipeline in pipelines:\n",
    "    print(pipeline)\n",
    "\n",
    "executor = CachedExecutor(\".\", pipelines)\n",
    "executor.run()\n",
    "\n",
    "executor.results"
   ]
  },
  {
   "cell_type": "code",
   "execution_count": 2,
   "id": "41a1c186",
   "metadata": {},
   "outputs": [
    {
     "name": "stdout",
     "output_type": "stream",
     "text": [
      "Built 1000000 pipelines in 4.19 seconds\n"
     ]
    }
   ],
   "source": [
    "n = 100\n",
    "\n",
    "repository = Repository(\n",
    "    [(f\"example_task1_{i}\", ExampleTask()) for i in range(n)] +\n",
    "    [(f\"example_task2_{i}\", ExampleTask2()) for i in range(n)] +\n",
    "    [(f\"example_task3_{i}\", ExampleTask3()) for i in range(n)] \n",
    ")\n",
    "\n",
    "from time import time\n",
    "start = time()\n",
    "pipelines = repository.build_pipelines()\n",
    "print(f\"Built {len(pipelines)} pipelines in {time() - start:.2f} seconds\")"
   ]
  },
  {
   "cell_type": "code",
   "execution_count": 6,
   "id": "eb083f9f",
   "metadata": {},
   "outputs": [
    {
     "name": "stdout",
     "output_type": "stream",
     "text": [
      "Pipeline(id=e324ccfa-3cfd-4fd5-a752-43315e8c8df2, tasks=['example_task1_0', 'example_task2_0', 'example_task3_0'])\n",
      "Pipeline(id=f4387b1c-15f8-4a25-8e04-feb17f31b1e5, tasks=['example_task1_0', 'example_task2_0', 'example_task3_1'])\n",
      "Pipeline(id=6bdb06d0-2f61-448a-ba4f-309a68b12d4d, tasks=['example_task1_0', 'example_task2_1', 'example_task3_0'])\n",
      "Pipeline(id=1f283541-afe4-4c72-aa15-7565c3060f12, tasks=['example_task1_0', 'example_task2_1', 'example_task3_1'])\n",
      "Pipeline(id=9393f50d-18fd-4a0b-a8c7-9a989e83a17a, tasks=['example_task1_1', 'example_task2_0', 'example_task3_0'])\n",
      "Pipeline(id=d21b4c81-eb17-4b1e-9e64-07ad8189f873, tasks=['example_task1_1', 'example_task2_0', 'example_task3_1'])\n",
      "Pipeline(id=5e1ac230-aecf-463e-82b5-1025cfc2fce6, tasks=['example_task1_1', 'example_task2_1', 'example_task3_0'])\n",
      "Pipeline(id=b1353f6e-1537-4f9c-a090-ba77592c6fca, tasks=['example_task1_1', 'example_task2_1', 'example_task3_1'])\n",
      "Pipeline(id=7f247e63-eb23-494b-9a5d-8749c97bc8fa, tasks=['example_task0_0', 'example_task3_0'])\n",
      "Pipeline(id=d6e542ef-37f2-4242-a076-2028cbae4cfd, tasks=['example_task0_0', 'example_task3_1'])\n",
      "Pipeline(id=243c4435-7ec4-4255-b79d-16ad192147c2, tasks=['example_task0_1', 'example_task3_0'])\n",
      "Pipeline(id=80094e9d-1b36-4901-bfb7-e9c49f8f8884, tasks=['example_task0_1', 'example_task3_1'])\n"
     ]
    }
   ],
   "source": [
    "class ExampleTask0(Task):\n",
    "    output_category = \"2\"\n",
    "\n",
    "    def run(self, input_path, output_path):\n",
    "        print(f\"Running ExampleTask\")\n",
    "        return \"output path 0\"\n",
    "\n",
    "repository = Repository([\n",
    "    (\"example_task1_0\", ExampleTask()),\n",
    "    (\"example_task1_1\", ExampleTask()),\n",
    "    (\"example_task2_0\", ExampleTask2()),\n",
    "    (\"example_task2_1\", ExampleTask2()),\n",
    "    (\"example_task3_0\", ExampleTask3()),\n",
    "    (\"example_task3_1\", ExampleTask3()),\n",
    "    (\"example_task0_0\", ExampleTask0()),\n",
    "    (\"example_task0_1\", ExampleTask0())\n",
    "])\n",
    "pipelines = repository.build_pipelines()\n",
    "for pipeline in pipelines:\n",
    "    print(pipeline)"
   ]
  }
 ],
 "metadata": {
  "kernelspec": {
   "display_name": "base",
   "language": "python",
   "name": "python3"
  },
  "language_info": {
   "codemirror_mode": {
    "name": "ipython",
    "version": 3
   },
   "file_extension": ".py",
   "mimetype": "text/x-python",
   "name": "python",
   "nbconvert_exporter": "python",
   "pygments_lexer": "ipython3",
   "version": "3.13.2"
  }
 },
 "nbformat": 4,
 "nbformat_minor": 5
}
