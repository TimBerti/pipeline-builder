{
 "cells": [
  {
   "cell_type": "code",
   "execution_count": 4,
   "id": "13a0f426",
   "metadata": {},
   "outputs": [
    {
     "name": "stdout",
     "output_type": "stream",
     "text": [
      "Pipeline(id=a18fd417-c2c7-45a9-9db0-528274059115, tasks=['example_task1_0', 'example_task2_0', 'example_task3_0'])\n",
      "Pipeline(id=6009056f-69e6-45e1-95fb-af8ead9056aa, tasks=['example_task1_0', 'example_task2_0', 'example_task3_1'])\n",
      "Pipeline(id=0a4d899f-683e-4d52-af65-bbdc986d1db0, tasks=['example_task1_0', 'example_task2_1', 'example_task3_0'])\n",
      "Pipeline(id=da99a338-8500-4b9f-9203-9ed799ca484b, tasks=['example_task1_0', 'example_task2_1', 'example_task3_1'])\n",
      "Pipeline(id=e024e615-3448-458b-911c-dc24ba0ee511, tasks=['example_task1_1', 'example_task2_0', 'example_task3_0'])\n",
      "Pipeline(id=07d80175-044d-473f-a02f-0a9c3e9df96d, tasks=['example_task1_1', 'example_task2_0', 'example_task3_1'])\n",
      "Pipeline(id=5e77aa98-bbdb-4b76-a879-986d256114db, tasks=['example_task1_1', 'example_task2_1', 'example_task3_0'])\n",
      "Pipeline(id=75896a09-cda2-471f-85a3-df9cfe747a34, tasks=['example_task1_1', 'example_task2_1', 'example_task3_1'])\n",
      "Running ExampleTask\n",
      "Running ExampleTask2\n",
      "Running ExampleTask3\n",
      "Pipeline a18fd417-c2c7-45a9-9db0-528274059115 completed.\n",
      "Running ExampleTask3\n",
      "Pipeline 6009056f-69e6-45e1-95fb-af8ead9056aa completed.\n",
      "Running ExampleTask2\n",
      "Running ExampleTask3\n",
      "Pipeline 0a4d899f-683e-4d52-af65-bbdc986d1db0 completed.\n",
      "Running ExampleTask3\n",
      "Pipeline da99a338-8500-4b9f-9203-9ed799ca484b completed.\n",
      "Running ExampleTask\n",
      "Running ExampleTask2\n",
      "Running ExampleTask3\n",
      "Pipeline e024e615-3448-458b-911c-dc24ba0ee511 completed.\n",
      "Running ExampleTask3\n",
      "Pipeline 07d80175-044d-473f-a02f-0a9c3e9df96d completed.\n",
      "Running ExampleTask2\n",
      "Running ExampleTask3\n",
      "Pipeline 5e77aa98-bbdb-4b76-a879-986d256114db completed.\n",
      "Running ExampleTask3\n",
      "Pipeline 75896a09-cda2-471f-85a3-df9cfe747a34 completed.\n"
     ]
    },
    {
     "data": {
      "text/plain": [
       "[{'pipeline_id': 'a18fd417-c2c7-45a9-9db0-528274059115',\n",
       "  'output_path': 'output path 3',\n",
       "  'tasks': ['example_task1_0', 'example_task2_0', 'example_task3_0']},\n",
       " {'pipeline_id': '6009056f-69e6-45e1-95fb-af8ead9056aa',\n",
       "  'output_path': 'output path 3',\n",
       "  'tasks': ['example_task1_0', 'example_task2_0', 'example_task3_1']},\n",
       " {'pipeline_id': '0a4d899f-683e-4d52-af65-bbdc986d1db0',\n",
       "  'output_path': 'output path 3',\n",
       "  'tasks': ['example_task1_0', 'example_task2_1', 'example_task3_0']},\n",
       " {'pipeline_id': 'da99a338-8500-4b9f-9203-9ed799ca484b',\n",
       "  'output_path': 'output path 3',\n",
       "  'tasks': ['example_task1_0', 'example_task2_1', 'example_task3_1']},\n",
       " {'pipeline_id': 'e024e615-3448-458b-911c-dc24ba0ee511',\n",
       "  'output_path': 'output path 3',\n",
       "  'tasks': ['example_task1_1', 'example_task2_0', 'example_task3_0']},\n",
       " {'pipeline_id': '07d80175-044d-473f-a02f-0a9c3e9df96d',\n",
       "  'output_path': 'output path 3',\n",
       "  'tasks': ['example_task1_1', 'example_task2_0', 'example_task3_1']},\n",
       " {'pipeline_id': '5e77aa98-bbdb-4b76-a879-986d256114db',\n",
       "  'output_path': 'output path 3',\n",
       "  'tasks': ['example_task1_1', 'example_task2_1', 'example_task3_0']},\n",
       " {'pipeline_id': '75896a09-cda2-471f-85a3-df9cfe747a34',\n",
       "  'output_path': 'output path 3',\n",
       "  'tasks': ['example_task1_1', 'example_task2_1', 'example_task3_1']}]"
      ]
     },
     "execution_count": 4,
     "metadata": {},
     "output_type": "execute_result"
    }
   ],
   "source": [
    "from pypekit import Task, Repository, CachedExecutor\n",
    "\n",
    "class ExampleTask(Task):\n",
    "    output_category = \"1\"\n",
    "\n",
    "    def run(self, input_path, output_path):\n",
    "        print(f\"Running ExampleTask\")\n",
    "        return \"output path 1\"\n",
    "\n",
    "class ExampleTask2(Task):\n",
    "    input_category = \"1\"\n",
    "    output_category = \"2\"\n",
    "        \n",
    "    def run(self, input_path, output_path):\n",
    "        print(f\"Running ExampleTask2\")\n",
    "        return \"output path 2\"\n",
    "\n",
    "class ExampleTask3(Task):\n",
    "    input_category = \"2\"\n",
    "        \n",
    "    def run(self, input_path, output_path):\n",
    "        print(f\"Running ExampleTask3\")\n",
    "        return \"output path 3\"\n",
    "    \n",
    "repository = Repository([\n",
    "    (\"example_task1_0\", ExampleTask()),\n",
    "    (\"example_task1_1\", ExampleTask()),\n",
    "    (\"example_task2_0\", ExampleTask2()),\n",
    "    (\"example_task2_1\", ExampleTask2()),\n",
    "    (\"example_task3_0\", ExampleTask3()),\n",
    "    (\"example_task3_1\", ExampleTask3())\n",
    "])\n",
    "pipelines = repository.build_pipelines()\n",
    "for pipeline in pipelines:\n",
    "    print(pipeline)\n",
    "\n",
    "executor = CachedExecutor(\".\", pipelines)\n",
    "executor.run()\n",
    "\n",
    "executor.results"
   ]
  },
  {
   "cell_type": "code",
   "execution_count": 5,
   "id": "41a1c186",
   "metadata": {},
   "outputs": [
    {
     "name": "stdout",
     "output_type": "stream",
     "text": [
      "Built 1000000 pipelines in 4.62 seconds\n"
     ]
    }
   ],
   "source": [
    "n = 100\n",
    "\n",
    "repository = Repository(\n",
    "    [(f\"example_task1_{i}\", ExampleTask()) for i in range(n)] +\n",
    "    [(f\"example_task2_{i}\", ExampleTask2()) for i in range(n)] +\n",
    "    [(f\"example_task3_{i}\", ExampleTask3()) for i in range(n)] \n",
    ")\n",
    "\n",
    "from time import time\n",
    "start = time()\n",
    "pipelines = repository.build_pipelines()\n",
    "print(f\"Built {len(pipelines)} pipelines in {time() - start:.2f} seconds\")"
   ]
  },
  {
   "cell_type": "code",
   "execution_count": 6,
   "id": "eb083f9f",
   "metadata": {},
   "outputs": [
    {
     "name": "stdout",
     "output_type": "stream",
     "text": [
      "Pipeline(id=fb26884d-fbd7-4d6e-8373-413a853e6ce2, tasks=['example_task1_0', 'example_task2_0', 'example_task3_0'])\n",
      "Pipeline(id=02184c5e-ea83-4e9a-ad98-7e529e975f96, tasks=['example_task1_0', 'example_task2_0', 'example_task3_1'])\n",
      "Pipeline(id=4522d0ee-ccc6-4ba7-9903-1c6a428cfcd9, tasks=['example_task1_0', 'example_task2_1', 'example_task3_0'])\n",
      "Pipeline(id=d40e950e-492d-4010-aca0-8592563a1256, tasks=['example_task1_0', 'example_task2_1', 'example_task3_1'])\n",
      "Pipeline(id=aebc546d-9928-48c9-bcd5-00ef0e4e0ba4, tasks=['example_task1_1', 'example_task2_0', 'example_task3_0'])\n",
      "Pipeline(id=cb7ceef6-eb8f-4e35-92f0-5efda7e29ed2, tasks=['example_task1_1', 'example_task2_0', 'example_task3_1'])\n",
      "Pipeline(id=8d610de3-5e2f-4045-901c-4ecddf0e0588, tasks=['example_task1_1', 'example_task2_1', 'example_task3_0'])\n",
      "Pipeline(id=5dd35c6f-0ba7-48ad-9815-37fddca6ca70, tasks=['example_task1_1', 'example_task2_1', 'example_task3_1'])\n",
      "Pipeline(id=91a69392-46b6-4f58-b3c9-7ce0202c75a9, tasks=['example_task0_0', 'example_task3_0'])\n",
      "Pipeline(id=a0a6ec43-df2e-4f91-ac27-b0352af64621, tasks=['example_task0_0', 'example_task3_1'])\n",
      "Pipeline(id=f475a4e0-5961-4ad2-aa84-549fc2cf3484, tasks=['example_task0_1', 'example_task3_0'])\n",
      "Pipeline(id=2b48864c-1b12-4ab1-b578-8b212171b051, tasks=['example_task0_1', 'example_task3_1'])\n"
     ]
    }
   ],
   "source": [
    "class ExampleTask0(Task):\n",
    "    output_category = \"2\"\n",
    "\n",
    "    def run(self, input_path, output_path):\n",
    "        print(f\"Running ExampleTask\")\n",
    "        return \"output path 0\"\n",
    "\n",
    "repository = Repository([\n",
    "    (\"example_task1_0\", ExampleTask()),\n",
    "    (\"example_task1_1\", ExampleTask()),\n",
    "    (\"example_task2_0\", ExampleTask2()),\n",
    "    (\"example_task2_1\", ExampleTask2()),\n",
    "    (\"example_task3_0\", ExampleTask3()),\n",
    "    (\"example_task3_1\", ExampleTask3()),\n",
    "    (\"example_task0_0\", ExampleTask0()),\n",
    "    (\"example_task0_1\", ExampleTask0())\n",
    "])\n",
    "pipelines = repository.build_pipelines()\n",
    "for pipeline in pipelines:\n",
    "    print(pipeline)"
   ]
  }
 ],
 "metadata": {
  "kernelspec": {
   "display_name": "base",
   "language": "python",
   "name": "python3"
  },
  "language_info": {
   "codemirror_mode": {
    "name": "ipython",
    "version": 3
   },
   "file_extension": ".py",
   "mimetype": "text/x-python",
   "name": "python",
   "nbconvert_exporter": "python",
   "pygments_lexer": "ipython3",
   "version": "3.13.2"
  }
 },
 "nbformat": 4,
 "nbformat_minor": 5
}
